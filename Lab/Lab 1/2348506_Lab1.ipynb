{
 "cells": [
  {
   "cell_type": "markdown",
   "metadata": {},
   "source": [
    "# MAI371 – Deep Learning\n",
    "## LAB Exercise – 1\n",
    "Date: 16 – 02 – 2024\n",
    "Duration: 2 Hrs"
   ]
  },
  {
   "cell_type": "code",
   "execution_count": 1,
   "metadata": {},
   "outputs": [
    {
     "name": "stdout",
     "output_type": "stream",
     "text": [
      "Requirement already satisfied: matplotlib in /home/arj/anaconda3/envs/clg/lib/python3.12/site-packages (3.8.3)\n",
      "Requirement already satisfied: contourpy>=1.0.1 in /home/arj/anaconda3/envs/clg/lib/python3.12/site-packages (from matplotlib) (1.2.0)\n",
      "Requirement already satisfied: cycler>=0.10 in /home/arj/anaconda3/envs/clg/lib/python3.12/site-packages (from matplotlib) (0.11.0)\n",
      "Requirement already satisfied: fonttools>=4.22.0 in /home/arj/anaconda3/envs/clg/lib/python3.12/site-packages (from matplotlib) (4.49.0)\n",
      "Requirement already satisfied: kiwisolver>=1.3.1 in /home/arj/anaconda3/envs/clg/lib/python3.12/site-packages (from matplotlib) (1.4.4)\n",
      "Requirement already satisfied: numpy<2,>=1.21 in /home/arj/anaconda3/envs/clg/lib/python3.12/site-packages (from matplotlib) (1.26.3)\n",
      "Requirement already satisfied: packaging>=20.0 in /home/arj/anaconda3/envs/clg/lib/python3.12/site-packages (from matplotlib) (23.2)\n",
      "Requirement already satisfied: pillow>=8 in /home/arj/anaconda3/envs/clg/lib/python3.12/site-packages (from matplotlib) (10.2.0)\n",
      "Requirement already satisfied: pyparsing>=2.3.1 in /home/arj/anaconda3/envs/clg/lib/python3.12/site-packages (from matplotlib) (3.0.9)\n",
      "Requirement already satisfied: python-dateutil>=2.7 in /home/arj/anaconda3/envs/clg/lib/python3.12/site-packages (from matplotlib) (2.8.2)\n",
      "Requirement already satisfied: six>=1.5 in /home/arj/anaconda3/envs/clg/lib/python3.12/site-packages (from python-dateutil>=2.7->matplotlib) (1.16.0)\n"
     ]
    }
   ],
   "source": [
    "!pip install matplotlib"
   ]
  },
  {
   "cell_type": "code",
   "execution_count": 2,
   "metadata": {},
   "outputs": [
    {
     "name": "stdout",
     "output_type": "stream",
     "text": [
      "Requirement already satisfied: seaborn in /home/arj/anaconda3/envs/clg/lib/python3.12/site-packages (0.13.2)\n",
      "Requirement already satisfied: numpy!=1.24.0,>=1.20 in /home/arj/anaconda3/envs/clg/lib/python3.12/site-packages (from seaborn) (1.26.3)\n",
      "Requirement already satisfied: pandas>=1.2 in /home/arj/anaconda3/envs/clg/lib/python3.12/site-packages (from seaborn) (2.2.0)\n",
      "Requirement already satisfied: matplotlib!=3.6.1,>=3.4 in /home/arj/anaconda3/envs/clg/lib/python3.12/site-packages (from seaborn) (3.8.3)\n",
      "Requirement already satisfied: contourpy>=1.0.1 in /home/arj/anaconda3/envs/clg/lib/python3.12/site-packages (from matplotlib!=3.6.1,>=3.4->seaborn) (1.2.0)\n",
      "Requirement already satisfied: cycler>=0.10 in /home/arj/anaconda3/envs/clg/lib/python3.12/site-packages (from matplotlib!=3.6.1,>=3.4->seaborn) (0.11.0)\n",
      "Requirement already satisfied: fonttools>=4.22.0 in /home/arj/anaconda3/envs/clg/lib/python3.12/site-packages (from matplotlib!=3.6.1,>=3.4->seaborn) (4.49.0)\n",
      "Requirement already satisfied: kiwisolver>=1.3.1 in /home/arj/anaconda3/envs/clg/lib/python3.12/site-packages (from matplotlib!=3.6.1,>=3.4->seaborn) (1.4.4)\n",
      "Requirement already satisfied: packaging>=20.0 in /home/arj/anaconda3/envs/clg/lib/python3.12/site-packages (from matplotlib!=3.6.1,>=3.4->seaborn) (23.2)\n",
      "Requirement already satisfied: pillow>=8 in /home/arj/anaconda3/envs/clg/lib/python3.12/site-packages (from matplotlib!=3.6.1,>=3.4->seaborn) (10.2.0)\n",
      "Requirement already satisfied: pyparsing>=2.3.1 in /home/arj/anaconda3/envs/clg/lib/python3.12/site-packages (from matplotlib!=3.6.1,>=3.4->seaborn) (3.0.9)\n",
      "Requirement already satisfied: python-dateutil>=2.7 in /home/arj/anaconda3/envs/clg/lib/python3.12/site-packages (from matplotlib!=3.6.1,>=3.4->seaborn) (2.8.2)\n",
      "Requirement already satisfied: pytz>=2020.1 in /home/arj/anaconda3/envs/clg/lib/python3.12/site-packages (from pandas>=1.2->seaborn) (2023.3.post1)\n",
      "Requirement already satisfied: tzdata>=2022.7 in /home/arj/anaconda3/envs/clg/lib/python3.12/site-packages (from pandas>=1.2->seaborn) (2023.3)\n",
      "Requirement already satisfied: six>=1.5 in /home/arj/anaconda3/envs/clg/lib/python3.12/site-packages (from python-dateutil>=2.7->matplotlib!=3.6.1,>=3.4->seaborn) (1.16.0)\n"
     ]
    }
   ],
   "source": [
    "!pip install seaborn"
   ]
  },
  {
   "cell_type": "code",
   "execution_count": 2,
   "metadata": {},
   "outputs": [
    {
     "name": "stdout",
     "output_type": "stream",
     "text": [
      "Requirement already satisfied: torch in /home/arj/anaconda3/envs/clg/lib/python3.12/site-packages (2.2.0)\n",
      "Requirement already satisfied: filelock in /home/arj/anaconda3/envs/clg/lib/python3.12/site-packages (from torch) (3.13.1)\n",
      "Requirement already satisfied: typing-extensions>=4.8.0 in /home/arj/anaconda3/envs/clg/lib/python3.12/site-packages (from torch) (4.9.0)\n",
      "Requirement already satisfied: sympy in /home/arj/anaconda3/envs/clg/lib/python3.12/site-packages (from torch) (1.12)\n",
      "Requirement already satisfied: networkx in /home/arj/anaconda3/envs/clg/lib/python3.12/site-packages (from torch) (3.2.1)\n",
      "Requirement already satisfied: jinja2 in /home/arj/anaconda3/envs/clg/lib/python3.12/site-packages (from torch) (3.1.3)\n",
      "Requirement already satisfied: fsspec in /home/arj/anaconda3/envs/clg/lib/python3.12/site-packages (from torch) (2024.2.0)\n",
      "Requirement already satisfied: nvidia-cuda-nvrtc-cu12==12.1.105 in /home/arj/anaconda3/envs/clg/lib/python3.12/site-packages (from torch) (12.1.105)\n",
      "Requirement already satisfied: nvidia-cuda-runtime-cu12==12.1.105 in /home/arj/anaconda3/envs/clg/lib/python3.12/site-packages (from torch) (12.1.105)\n",
      "Requirement already satisfied: nvidia-cuda-cupti-cu12==12.1.105 in /home/arj/anaconda3/envs/clg/lib/python3.12/site-packages (from torch) (12.1.105)\n",
      "Requirement already satisfied: nvidia-cudnn-cu12==8.9.2.26 in /home/arj/anaconda3/envs/clg/lib/python3.12/site-packages (from torch) (8.9.2.26)\n",
      "Requirement already satisfied: nvidia-cublas-cu12==12.1.3.1 in /home/arj/anaconda3/envs/clg/lib/python3.12/site-packages (from torch) (12.1.3.1)\n",
      "Requirement already satisfied: nvidia-cufft-cu12==11.0.2.54 in /home/arj/anaconda3/envs/clg/lib/python3.12/site-packages (from torch) (11.0.2.54)\n",
      "Requirement already satisfied: nvidia-curand-cu12==10.3.2.106 in /home/arj/anaconda3/envs/clg/lib/python3.12/site-packages (from torch) (10.3.2.106)\n",
      "Requirement already satisfied: nvidia-cusolver-cu12==11.4.5.107 in /home/arj/anaconda3/envs/clg/lib/python3.12/site-packages (from torch) (11.4.5.107)\n",
      "Requirement already satisfied: nvidia-cusparse-cu12==12.1.0.106 in /home/arj/anaconda3/envs/clg/lib/python3.12/site-packages (from torch) (12.1.0.106)\n",
      "Requirement already satisfied: nvidia-nccl-cu12==2.19.3 in /home/arj/anaconda3/envs/clg/lib/python3.12/site-packages (from torch) (2.19.3)\n",
      "Requirement already satisfied: nvidia-nvtx-cu12==12.1.105 in /home/arj/anaconda3/envs/clg/lib/python3.12/site-packages (from torch) (12.1.105)\n",
      "Requirement already satisfied: triton==2.2.0 in /home/arj/anaconda3/envs/clg/lib/python3.12/site-packages (from torch) (2.2.0)\n",
      "Requirement already satisfied: nvidia-nvjitlink-cu12 in /home/arj/anaconda3/envs/clg/lib/python3.12/site-packages (from nvidia-cusolver-cu12==11.4.5.107->torch) (12.3.101)\n",
      "Requirement already satisfied: MarkupSafe>=2.0 in /home/arj/anaconda3/envs/clg/lib/python3.12/site-packages (from jinja2->torch) (2.1.3)\n",
      "Requirement already satisfied: mpmath>=0.19 in /home/arj/anaconda3/envs/clg/lib/python3.12/site-packages (from sympy->torch) (1.3.0)\n"
     ]
    }
   ],
   "source": [
    "!pip install torch"
   ]
  },
  {
   "cell_type": "code",
   "execution_count": 3,
   "metadata": {},
   "outputs": [
    {
     "data": {
      "text/plain": [
       "False"
      ]
     },
     "execution_count": 3,
     "metadata": {},
     "output_type": "execute_result"
    }
   ],
   "source": [
    "import torch\n",
    "torch.cuda.is_available()"
   ]
  },
  {
   "cell_type": "markdown",
   "metadata": {},
   "source": [
    "AND"
   ]
  },
  {
   "cell_type": "code",
   "execution_count": 4,
   "metadata": {},
   "outputs": [
    {
     "name": "stdout",
     "output_type": "stream",
     "text": [
      "activation:  tensor([[-2., -1., -1.,  0.]], dtype=torch.float64)\n",
      "AND output:  [[0, 0, 0, 1]]\n",
      "misclassifications:  0\n"
     ]
    }
   ],
   "source": [
    "input=torch.tensor([(0,0),(0,1),(1,0),(1,1)],dtype=torch.double)\n",
    "output=torch.tensor([(0,0,0,1)],dtype=torch.double)\n",
    "weight=torch.tensor([1,1],dtype=torch.double)\n",
    "bias=torch.tensor([(-2)],dtype=torch.double)\n",
    "weight.resize_(1,2)\n",
    "and_calc=weight.mm(input.t())\n",
    "and_calc=and_calc+bias\n",
    "print(\"activation: \",and_calc)\n",
    "and_output=[[1 if i>=0 else 0 for i in x]for x in and_calc]\n",
    "print(\"AND output: \",and_output)\n",
    "mis=0\n",
    "for i in range(4):\n",
    "  if output[0][i]!=and_output[0][i]:\n",
    "    mis=mis+1\n",
    "print(\"misclassifications: \",mis)"
   ]
  },
  {
   "cell_type": "markdown",
   "metadata": {},
   "source": [
    "OR"
   ]
  },
  {
   "cell_type": "code",
   "execution_count": 5,
   "metadata": {},
   "outputs": [
    {
     "name": "stdout",
     "output_type": "stream",
     "text": [
      "activation:  tensor([[-2., -1., -1.,  0.]], dtype=torch.float64)\n",
      "OR output:  [[0, 0, 0, 1]]\n",
      "misclassifications:  2\n"
     ]
    }
   ],
   "source": [
    "input=torch.tensor([(0,0),(0,1),(1,0),(1,1)],dtype=torch.double)\n",
    "output=torch.tensor([(0,1,1,1)],dtype=torch.double)\n",
    "weight=torch.tensor([1,1],dtype=torch.double)\n",
    "bias=torch.tensor([(-2)],dtype=torch.double)\n",
    "weight.resize_(1,2)\n",
    "and_calc=weight.mm(input.t())\n",
    "and_calc=and_calc+bias\n",
    "print(\"activation: \",and_calc)\n",
    "and_output=[[1 if i>=0 else 0 for i in x]for x in and_calc]\n",
    "print(\"OR output: \",and_output)\n",
    "mis=0\n",
    "for i in range(4):\n",
    "  if output[0][i]!=and_output[0][i]:\n",
    "    mis=mis+1\n",
    "print(\"misclassifications: \",mis)"
   ]
  },
  {
   "cell_type": "markdown",
   "metadata": {},
   "source": [
    "NAND"
   ]
  },
  {
   "cell_type": "code",
   "execution_count": 6,
   "metadata": {},
   "outputs": [
    {
     "name": "stdout",
     "output_type": "stream",
     "text": [
      "activation:  tensor([[-2., -5., -3., -6.]], dtype=torch.float64)\n",
      "NAND output:  [[0, 0, 0, 0]]\n",
      "misclassifications:  3\n"
     ]
    }
   ],
   "source": [
    "input=torch.tensor([(0,0),(0,1),(1,0),(1,1)],dtype=torch.double)\n",
    "output=torch.tensor([(1,1,1,0)],dtype=torch.double)\n",
    "weight=torch.tensor([-1,-3],dtype=torch.double)\n",
    "bias=torch.tensor([(-2)],dtype=torch.double)\n",
    "weight.resize_(1,2)\n",
    "and_calc=weight.mm(input.t())\n",
    "and_calc=and_calc+bias\n",
    "print(\"activation: \",and_calc)\n",
    "and_output=[[1 if i>=0 else 0 for i in x]for x in and_calc]\n",
    "print(\"NAND output: \",and_output)\n",
    "mis=0\n",
    "for i in range(4):\n",
    "  if output[0][i]!=and_output[0][i]:\n",
    "    mis=mis+1\n",
    "print(\"misclassifications: \",mis)"
   ]
  },
  {
   "cell_type": "code",
   "execution_count": 7,
   "metadata": {},
   "outputs": [
    {
     "name": "stdout",
     "output_type": "stream",
     "text": [
      "activation:  tensor([[-2., -3., -1., -2.]], dtype=torch.float64)\n",
      "XOR output:  [[0, 0, 0, 0]]\n",
      "misclassifications:  2\n"
     ]
    }
   ],
   "source": [
    "input=torch.tensor([(0,0),(0,1),(1,0),(1,1)],dtype=torch.double)\n",
    "output=torch.tensor([(0,1,1,0)],dtype=torch.double)\n",
    "weight=torch.tensor([1,-1],dtype=torch.double)\n",
    "bias=torch.tensor([(-2)],dtype=torch.double)\n",
    "weight.resize_(1,2)\n",
    "and_calc=weight.mm(input.t())\n",
    "and_calc=and_calc+bias\n",
    "print(\"activation: \",and_calc)\n",
    "and_output=[[1 if i>=0 else 0 for i in x]for x in and_calc]\n",
    "print(\"XOR output: \",and_output)\n",
    "mis=0\n",
    "for i in range(4):\n",
    "  if output[0][i]!=and_output[0][i]:\n",
    "    mis=mis+1\n",
    "print(\"misclassifications: \",mis)"
   ]
  },
  {
   "cell_type": "markdown",
   "metadata": {},
   "source": [
    "PERCEPTRON LEARNING ALGORITHM - XOR"
   ]
  },
  {
   "cell_type": "code",
   "execution_count": 8,
   "metadata": {},
   "outputs": [
    {
     "name": "stdout",
     "output_type": "stream",
     "text": [
      "Epoch: 1, Loss: 0.8277\n",
      "Epoch: 101, Loss: 0.6936\n",
      "Epoch: 201, Loss: 0.6932\n",
      "Epoch: 301, Loss: 0.6932\n",
      "Epoch: 401, Loss: 0.6932\n",
      "Epoch: 501, Loss: 0.6931\n",
      "Epoch: 601, Loss: 0.6931\n",
      "Epoch: 701, Loss: 0.6931\n",
      "Epoch: 801, Loss: 0.6931\n",
      "Epoch: 901, Loss: 0.6931\n",
      "Predictions:\n",
      "Input: [0.0, 0.0], Prediction: 0.5000\n",
      "Input: [0.0, 1.0], Prediction: 0.5000\n",
      "Input: [1.0, 0.0], Prediction: 0.5000\n",
      "Input: [1.0, 1.0], Prediction: 0.5000\n"
     ]
    }
   ],
   "source": [
    "import torch\n",
    "import torch.nn as nn\n",
    "import torch.nn.functional as F\n",
    "inputs = torch.tensor([[0, 0], [0, 1], [1, 0], [1, 1]], dtype=torch.float)\n",
    "targets = torch.tensor([[0], [1], [1], [0]], dtype=torch.float)\n",
    "model = nn.Sequential(\n",
    "    nn.Linear(2, 2),\n",
    "    nn.ReLU(),\n",
    "    nn.Linear(2, 1),\n",
    "    nn.Sigmoid()\n",
    ")\n",
    "loss_fn = nn.BCELoss()\n",
    "optimizer = torch.optim.Adam(model.parameters(), lr=0.01)\n",
    "num_epochs = 1000\n",
    "for epoch in range(num_epochs):\n",
    "    outputs = model(inputs)\n",
    "    loss = loss_fn(outputs, targets)\n",
    "    optimizer.zero_grad()\n",
    "    loss.backward()\n",
    "    optimizer.step()\n",
    "    if epoch % 100 == 0:\n",
    "        print(f\"Epoch: {epoch+1}, Loss: {loss.item():.4f}\")\n",
    "predictions = model(inputs)\n",
    "print(\"Predictions:\")\n",
    "for i in range(4):\n",
    "    print(f\"Input: {inputs[i].tolist()}, Prediction: {predictions[i].item():.4f}\")"
   ]
  },
  {
   "cell_type": "code",
   "execution_count": 9,
   "metadata": {},
   "outputs": [
    {
     "name": "stdout",
     "output_type": "stream",
     "text": [
      "Global Minima found at x = -1.1105093598463913, f(x) = -3.2463942726873016\n",
      "Number of iterations: 14\n"
     ]
    },
    {
     "data": {
      "image/png": "[encoded data removed]",
      "text/plain": [
       "<Figure size 640x480 with 1 Axes>"
      ]
     },
     "metadata": {},
     "output_type": "display_data"
    }
   ],
   "source": [
    "\n",
    "import numpy as np\n",
    "import matplotlib.pyplot as plt\n",
    "def equation(x):\n",
    "    return x**2 + 5*np.sin(x)\n",
    "def gradient(x):\n",
    "    return 2*x + 5*np.cos(x)\n",
    "def gradient_descent(initial_guess, learning_rate, tolerance):\n",
    "    x = initial_guess\n",
    "    iterations = 0\n",
    "    while True:\n",
    "        x_new = x - learning_rate * gradient(x)\n",
    "        if abs(x_new - x) < tolerance:\n",
    "            break\n",
    "        x = x_new\n",
    "        iterations += 1\n",
    "    return x, iterations\n",
    "def plot_results(x_vals, y_vals, minima_x, minima_y):\n",
    "    plt.plot(x_vals, y_vals,color='r', label='Function')\n",
    "    plt.scatter(minima_x, minima_y, color='blue', label='Global Minima')\n",
    "    plt.title('Gradient Descent Optimization')\n",
    "    plt.xlabel('x')\n",
    "    plt.ylabel('f(x)')\n",
    "    plt.legend()\n",
    "    plt.show()\n",
    "initial_guess = 0.0\n",
    "learning_rate = 0.1\n",
    "tolerance = 1e-6\n",
    "minima_x, iterations = gradient_descent(initial_guess, learning_rate, tolerance)\n",
    "minima_y = equation(minima_x)\n",
    "x_vals = np.linspace(-5, 5, 100)\n",
    "y_vals = equation(x_vals)\n",
    "print(f\"Global Minima found at x = {minima_x}, f(x) = {minima_y}\")\n",
    "print(f\"Number of iterations: {iterations}\")\n",
    "plot_results(x_vals, y_vals, minima_x, minima_y)"
   ]
  },
  {
   "cell_type": "markdown",
   "metadata": {},
   "source": [
    "reference \n",
    "1. [Build your perceptron neural net from scratch](https://medium.com/@ismailghallou/build-your-perceptron-neural-net-from-scratch-e12b7be9d1ef#:~:text=The%20perceptron%20receives%20input%20data,be%20more%20than%202%20inputs%20!)<br>\n",
    "2. [How Neural Networks Solve the XOR Problem](https://towardsdatascience.com/how-neural-networks-solve-the-xor-problem-59763136bdd7)"
   ]
  }
 ],
 "metadata": {
  "kernelspec": {
   "display_name": "clg",
   "language": "python",
   "name": "python3"
  },
  "language_info": {
   "codemirror_mode": {
    "name": "ipython",
    "version": 3
   },
   "file_extension": ".py",
   "mimetype": "text/x-python",
   "name": "python",
   "nbconvert_exporter": "python",
   "pygments_lexer": "ipython3",
   "version": "3.12.1"
  }
 },
 "nbformat": 4,
 "nbformat_minor": 2
}
